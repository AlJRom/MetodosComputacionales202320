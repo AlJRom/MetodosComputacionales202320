{
 "cells": [
  {
   "cell_type": "code",
   "execution_count": null,
   "id": "a2148697",
   "metadata": {},
   "outputs": [],
   "source": [
    "import numpy as np"
   ]
  },
  {
   "cell_type": "markdown",
   "id": "2adc6361",
   "metadata": {},
   "source": [
    "# Tipado dinamico"
   ]
  },
  {
   "cell_type": "code",
   "execution_count": 1,
   "id": "087cb320",
   "metadata": {},
   "outputs": [
    {
     "data": {
      "text/plain": [
       "int"
      ]
     },
     "execution_count": 1,
     "metadata": {},
     "output_type": "execute_result"
    }
   ],
   "source": [
    "a = 1\n",
    "type(a)"
   ]
  },
  {
   "cell_type": "code",
   "execution_count": 2,
   "id": "0801307f",
   "metadata": {},
   "outputs": [
    {
     "data": {
      "text/plain": [
       "str"
      ]
     },
     "execution_count": 2,
     "metadata": {},
     "output_type": "execute_result"
    }
   ],
   "source": [
    "a = 'Alejandro'\n",
    "type(a)"
   ]
  },
  {
   "cell_type": "code",
   "execution_count": 3,
   "id": "32794f88",
   "metadata": {},
   "outputs": [
    {
     "data": {
      "text/plain": [
       "list"
      ]
     },
     "execution_count": 3,
     "metadata": {},
     "output_type": "execute_result"
    }
   ],
   "source": [
    "a = []\n",
    "type(a)"
   ]
  },
  {
   "cell_type": "code",
   "execution_count": 14,
   "id": "a9b725a3",
   "metadata": {},
   "outputs": [],
   "source": [
    "a = [1,2,0]\n",
    "b =[3,4,0]"
   ]
  },
  {
   "cell_type": "code",
   "execution_count": 15,
   "id": "3a2c5301",
   "metadata": {},
   "outputs": [
    {
     "name": "stdout",
     "output_type": "stream",
     "text": [
      "0 0\n",
      "1 3\n",
      "11\n"
     ]
    }
   ],
   "source": [
    "dot = 0\n",
    "for i in range(2):\n",
    "    print(i,dot)\n",
    "    dot += a[i]*b[i]\n",
    "print(dot)"
   ]
  },
  {
   "cell_type": "code",
   "execution_count": 17,
   "id": "21a946cb",
   "metadata": {},
   "outputs": [
    {
     "name": "stdout",
     "output_type": "stream",
     "text": [
      "[0, 0, -2]\n"
     ]
    }
   ],
   "source": [
    "c = [0,0,0]\n",
    "c[2] = a[0]*b[1] - a[1]*b[0]\n",
    "print(c)"
   ]
  },
  {
   "cell_type": "code",
   "execution_count": null,
   "id": "68ec97af",
   "metadata": {},
   "outputs": [],
   "source": []
  }
 ],
 "metadata": {
  "kernelspec": {
   "display_name": "Python 3 (ipykernel)",
   "language": "python",
   "name": "python3"
  },
  "language_info": {
   "codemirror_mode": {
    "name": "ipython",
    "version": 3
   },
   "file_extension": ".py",
   "mimetype": "text/x-python",
   "name": "python",
   "nbconvert_exporter": "python",
   "pygments_lexer": "ipython3",
   "version": "3.9.12"
  }
 },
 "nbformat": 4,
 "nbformat_minor": 5
}

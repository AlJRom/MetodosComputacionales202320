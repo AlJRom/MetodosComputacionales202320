{
 "cells": [
  {
   "cell_type": "code",
   "execution_count": 1,
   "id": "bd7484fd",
   "metadata": {},
   "outputs": [],
   "source": [
    "%matplotlib notebook\n",
    "import numpy as np\n",
    "import matplotlib.pyplot as plt\n",
    "from mpl_toolkits.mplot3d import axes3d"
   ]
  },
  {
   "cell_type": "code",
   "execution_count": 2,
   "id": "479c94e7",
   "metadata": {},
   "outputs": [
    {
     "data": {
      "text/plain": [
       "array([[0., 0.],\n",
       "       [0., 0.]])"
      ]
     },
     "execution_count": 2,
     "metadata": {},
     "output_type": "execute_result"
    }
   ],
   "source": [
    "M = np.zeros((2,2))\n",
    "M"
   ]
  },
  {
   "cell_type": "code",
   "execution_count": 3,
   "id": "eb48e252",
   "metadata": {},
   "outputs": [],
   "source": [
    "M[0,0]=1.\n",
    "M[0,1]=3.\n",
    "M[1,0]=5.\n",
    "M[1,1]=7."
   ]
  },
  {
   "cell_type": "code",
   "execution_count": 4,
   "id": "806933be",
   "metadata": {},
   "outputs": [
    {
     "data": {
      "text/plain": [
       "array([[1., 3.],\n",
       "       [5., 7.]])"
      ]
     },
     "execution_count": 4,
     "metadata": {},
     "output_type": "execute_result"
    }
   ],
   "source": [
    "M"
   ]
  },
  {
   "cell_type": "code",
   "execution_count": 5,
   "id": "dffb4027",
   "metadata": {},
   "outputs": [
    {
     "data": {
      "text/plain": [
       "array([[1., 5.],\n",
       "       [3., 7.]])"
      ]
     },
     "execution_count": 5,
     "metadata": {},
     "output_type": "execute_result"
    }
   ],
   "source": [
    "M.T"
   ]
  },
  {
   "cell_type": "code",
   "execution_count": 15,
   "id": "7d5b77fc",
   "metadata": {},
   "outputs": [],
   "source": [
    "def Transponse(M):\n",
    "    \n",
    "    T = M.copy()\n",
    "   # print(id(T),id(M))\n",
    "    \n",
    "    for i in range(T.shape[0]):\n",
    "        for j in range(T.shape[1]):\n",
    "            T[j,i] = M[i,j]\n",
    "            \n",
    "    return T"
   ]
  },
  {
   "cell_type": "code",
   "execution_count": 16,
   "id": "de7deaf3",
   "metadata": {},
   "outputs": [],
   "source": [
    "T = Transponse(M)"
   ]
  },
  {
   "cell_type": "code",
   "execution_count": 17,
   "id": "c402a4ad",
   "metadata": {},
   "outputs": [
    {
     "data": {
      "text/plain": [
       "array([[1., 5.],\n",
       "       [3., 7.]])"
      ]
     },
     "execution_count": 17,
     "metadata": {},
     "output_type": "execute_result"
    }
   ],
   "source": [
    "T"
   ]
  },
  {
   "cell_type": "code",
   "execution_count": 18,
   "id": "e9205262",
   "metadata": {},
   "outputs": [],
   "source": [
    "# Graficacion 3d\n",
    "A = 1\n",
    "B = 3\n",
    "omega = 2*np.pi/10\n",
    "N = 50"
   ]
  },
  {
   "cell_type": "code",
   "execution_count": 20,
   "id": "a812a143",
   "metadata": {},
   "outputs": [],
   "source": [
    "t = np.linspace(0,10,N)\n",
    "#t\n",
    "r = np.zeros((N,3))"
   ]
  },
  {
   "cell_type": "code",
   "execution_count": 24,
   "id": "dc847769",
   "metadata": {},
   "outputs": [
    {
     "data": {
      "text/plain": [
       "array([[ 1.00000000e+00,  0.00000000e+00,  0.00000000e+00],\n",
       "       [ 9.91790014e-01,  1.27877162e-01,  6.12244898e-01],\n",
       "       [ 9.67294863e-01,  2.53654584e-01,  1.22448980e+00],\n",
       "       [ 9.26916757e-01,  3.75267005e-01,  1.83673469e+00],\n",
       "       [ 8.71318704e-01,  4.90717552e-01,  2.44897959e+00],\n",
       "       [ 8.01413622e-01,  5.98110530e-01,  3.06122449e+00],\n",
       "       [ 7.18349350e-01,  6.95682551e-01,  3.67346939e+00],\n",
       "       [ 6.23489802e-01,  7.81831482e-01,  4.28571429e+00],\n",
       "       [ 5.18392568e-01,  8.55142763e-01,  4.89795918e+00],\n",
       "       [ 4.04783343e-01,  9.14412623e-01,  5.51020408e+00],\n",
       "       [ 2.84527587e-01,  9.58667853e-01,  6.12244898e+00],\n",
       "       [ 1.59599895e-01,  9.87181783e-01,  6.73469388e+00],\n",
       "       [ 3.20515776e-02,  9.99486216e-01,  7.34693878e+00],\n",
       "       [-9.60230259e-02,  9.95379113e-01,  7.95918367e+00],\n",
       "       [-2.22520934e-01,  9.74927912e-01,  8.57142857e+00],\n",
       "       [-3.45365054e-01,  9.38468422e-01,  9.18367347e+00],\n",
       "       [-4.62538290e-01,  8.86599306e-01,  9.79591837e+00],\n",
       "       [-5.72116660e-01,  8.20172255e-01,  1.04081633e+01],\n",
       "       [-6.72300890e-01,  7.40277997e-01,  1.10204082e+01],\n",
       "       [-7.61445958e-01,  6.48228395e-01,  1.16326531e+01],\n",
       "       [-8.38088105e-01,  5.45534901e-01,  1.22448980e+01],\n",
       "       [-9.00968868e-01,  4.33883739e-01,  1.28571429e+01],\n",
       "       [-9.49055747e-01,  3.15108218e-01,  1.34693878e+01],\n",
       "       [-9.81559157e-01,  1.91158629e-01,  1.40816327e+01],\n",
       "       [-9.97945393e-01,  6.40702200e-02,  1.46938776e+01],\n",
       "       [-9.97945393e-01, -6.40702200e-02,  1.53061224e+01],\n",
       "       [-9.81559157e-01, -1.91158629e-01,  1.59183673e+01],\n",
       "       [-9.49055747e-01, -3.15108218e-01,  1.65306122e+01],\n",
       "       [-9.00968868e-01, -4.33883739e-01,  1.71428571e+01],\n",
       "       [-8.38088105e-01, -5.45534901e-01,  1.77551020e+01],\n",
       "       [-7.61445958e-01, -6.48228395e-01,  1.83673469e+01],\n",
       "       [-6.72300890e-01, -7.40277997e-01,  1.89795918e+01],\n",
       "       [-5.72116660e-01, -8.20172255e-01,  1.95918367e+01],\n",
       "       [-4.62538290e-01, -8.86599306e-01,  2.02040816e+01],\n",
       "       [-3.45365054e-01, -9.38468422e-01,  2.08163265e+01],\n",
       "       [-2.22520934e-01, -9.74927912e-01,  2.14285714e+01],\n",
       "       [-9.60230259e-02, -9.95379113e-01,  2.20408163e+01],\n",
       "       [ 3.20515776e-02, -9.99486216e-01,  2.26530612e+01],\n",
       "       [ 1.59599895e-01, -9.87181783e-01,  2.32653061e+01],\n",
       "       [ 2.84527587e-01, -9.58667853e-01,  2.38775510e+01],\n",
       "       [ 4.04783343e-01, -9.14412623e-01,  2.44897959e+01],\n",
       "       [ 5.18392568e-01, -8.55142763e-01,  2.51020408e+01],\n",
       "       [ 6.23489802e-01, -7.81831482e-01,  2.57142857e+01],\n",
       "       [ 7.18349350e-01, -6.95682551e-01,  2.63265306e+01],\n",
       "       [ 8.01413622e-01, -5.98110530e-01,  2.69387755e+01],\n",
       "       [ 8.71318704e-01, -4.90717552e-01,  2.75510204e+01],\n",
       "       [ 9.26916757e-01, -3.75267005e-01,  2.81632653e+01],\n",
       "       [ 9.67294863e-01, -2.53654584e-01,  2.87755102e+01],\n",
       "       [ 9.91790014e-01, -1.27877162e-01,  2.93877551e+01],\n",
       "       [ 1.00000000e+00, -2.44929360e-16,  3.00000000e+01]])"
      ]
     },
     "execution_count": 24,
     "metadata": {},
     "output_type": "execute_result"
    }
   ],
   "source": [
    "r[:,0] = A*np.cos(omega*t)\n",
    "r[:,1] = A*np.sin(omega*t)\n",
    "r[:,2] = B*t\n",
    "r"
   ]
  },
  {
   "cell_type": "code",
   "execution_count": null,
   "id": "ac21fbfd",
   "metadata": {},
   "outputs": [],
   "source": []
  }
 ],
 "metadata": {
  "kernelspec": {
   "display_name": "Python 3 (ipykernel)",
   "language": "python",
   "name": "python3"
  },
  "language_info": {
   "codemirror_mode": {
    "name": "ipython",
    "version": 3
   },
   "file_extension": ".py",
   "mimetype": "text/x-python",
   "name": "python",
   "nbconvert_exporter": "python",
   "pygments_lexer": "ipython3",
   "version": "3.9.12"
  }
 },
 "nbformat": 4,
 "nbformat_minor": 5
}

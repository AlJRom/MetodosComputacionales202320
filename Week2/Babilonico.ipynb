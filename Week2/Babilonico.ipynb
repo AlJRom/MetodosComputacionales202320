{
 "cells": [
  {
   "cell_type": "code",
   "execution_count": 1,
   "id": "21cb9df2",
   "metadata": {},
   "outputs": [],
   "source": [
    "import numpy as np\n",
    "import matplotlib.pyplot as plt"
   ]
  },
  {
   "cell_type": "code",
   "execution_count": 44,
   "id": "23b839b8",
   "metadata": {},
   "outputs": [
    {
     "data": {
      "text/plain": [
       "float"
      ]
     },
     "execution_count": 44,
     "metadata": {},
     "output_type": "execute_result"
    }
   ],
   "source": [
    "x = 2.\n",
    "n = 5\n",
    "type(x)"
   ]
  },
  {
   "cell_type": "code",
   "execution_count": 45,
   "id": "1cfceffb",
   "metadata": {},
   "outputs": [
    {
     "data": {
      "text/plain": [
       "numpy.ndarray"
      ]
     },
     "execution_count": 45,
     "metadata": {},
     "output_type": "execute_result"
    }
   ],
   "source": [
    "func = np.zeros(n)\n",
    "type(func)"
   ]
  },
  {
   "cell_type": "code",
   "execution_count": 46,
   "id": "4b565248",
   "metadata": {},
   "outputs": [
    {
     "data": {
      "text/plain": [
       "array([0., 0., 0., 0., 0.])"
      ]
     },
     "execution_count": 46,
     "metadata": {},
     "output_type": "execute_result"
    }
   ],
   "source": [
    "func"
   ]
  },
  {
   "cell_type": "code",
   "execution_count": 47,
   "id": "ba500700",
   "metadata": {},
   "outputs": [],
   "source": [
    "func[0] = x"
   ]
  },
  {
   "cell_type": "code",
   "execution_count": 48,
   "id": "f906649d",
   "metadata": {},
   "outputs": [],
   "source": [
    "def Update(f,x):\n",
    "    \n",
    "    f = (x/f + f)/2.\n",
    "    \n",
    "    return f\n",
    "    "
   ]
  },
  {
   "cell_type": "code",
   "execution_count": 49,
   "id": "8c2f8c25",
   "metadata": {},
   "outputs": [
    {
     "data": {
      "text/plain": [
       "1.5"
      ]
     },
     "execution_count": 49,
     "metadata": {},
     "output_type": "execute_result"
    }
   ],
   "source": [
    "Update(x,x)"
   ]
  },
  {
   "cell_type": "code",
   "execution_count": 50,
   "id": "926daef0",
   "metadata": {},
   "outputs": [],
   "source": [
    "for i in range(1,n):\n",
    "    func[i] = Update(func[i-1],x)"
   ]
  },
  {
   "cell_type": "code",
   "execution_count": 51,
   "id": "0e2b8f96",
   "metadata": {},
   "outputs": [
    {
     "data": {
      "text/plain": [
       "array([2.        , 1.5       , 1.41666667, 1.41421569, 1.41421356])"
      ]
     },
     "execution_count": 51,
     "metadata": {},
     "output_type": "execute_result"
    }
   ],
   "source": [
    "func"
   ]
  },
  {
   "cell_type": "code",
   "execution_count": 52,
   "id": "8e00beeb",
   "metadata": {},
   "outputs": [],
   "source": [
    "k = np.arange(0,n,1)"
   ]
  },
  {
   "cell_type": "code",
   "execution_count": 53,
   "id": "d852d12a",
   "metadata": {},
   "outputs": [
    {
     "data": {
      "image/png": "[encoded data removed]",
      "text/plain": [
       "<Figure size 432x288 with 1 Axes>"
      ]
     },
     "metadata": {
      "needs_background": "light"
     },
     "output_type": "display_data"
    }
   ],
   "source": [
    "plt.scatter(k,func)\n",
    "plt.axhline(y = np.sqrt(2),color='r')\n",
    "plt.yscale('log')"
   ]
  },
  {
   "cell_type": "code",
   "execution_count": 54,
   "id": "07a502b9",
   "metadata": {},
   "outputs": [],
   "source": [
    "#np.info(np.float32)"
   ]
  },
  {
   "cell_type": "code",
   "execution_count": 55,
   "id": "c158b40c",
   "metadata": {},
   "outputs": [
    {
     "name": "stdout",
     "output_type": "stream",
     "text": [
      "[0 1 2 3 4]\n",
      "[2.         1.5        1.41666667 1.41421569 1.41421356]\n"
     ]
    }
   ],
   "source": [
    "print(k)\n",
    "print(func)"
   ]
  },
  {
   "cell_type": "code",
   "execution_count": null,
   "id": "9d7d9cfc",
   "metadata": {},
   "outputs": [],
   "source": []
  }
 ],
 "metadata": {
  "kernelspec": {
   "display_name": "Python 3 (ipykernel)",
   "language": "python",
   "name": "python3"
  },
  "language_info": {
   "codemirror_mode": {
    "name": "ipython",
    "version": 3
   },
   "file_extension": ".py",
   "mimetype": "text/x-python",
   "name": "python",
   "nbconvert_exporter": "python",
   "pygments_lexer": "ipython3",
   "version": "3.9.12"
  }
 },
 "nbformat": 4,
 "nbformat_minor": 5
}

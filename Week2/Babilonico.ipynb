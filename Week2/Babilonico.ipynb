{
 "cells": [
  {
   "cell_type": "code",
   "execution_count": 1,
   "id": "a5e7bf6b",
   "metadata": {},
   "outputs": [],
   "source": [
    "import numpy as np\n",
    "import matplotlib.pyplot as plt"
   ]
  },
  {
   "cell_type": "code",
   "execution_count": 44,
   "id": "b5a3bd70",
   "metadata": {},
   "outputs": [
    {
     "data": {
      "text/plain": [
       "float"
      ]
     },
     "execution_count": 44,
     "metadata": {},
     "output_type": "execute_result"
    }
   ],
   "source": [
    "x = 2.\n",
    "n = 5\n",
    "type(x)"
   ]
  },
  {
   "cell_type": "code",
   "execution_count": 45,
   "id": "59e4da17",
   "metadata": {},
   "outputs": [
    {
     "data": {
      "text/plain": [
       "numpy.ndarray"
      ]
     },
     "execution_count": 45,
     "metadata": {},
     "output_type": "execute_result"
    }
   ],
   "source": [
    "func = np.zeros(n)\n",
    "type(func)"
   ]
  },
  {
   "cell_type": "code",
   "execution_count": 46,
   "id": "872ead09",
   "metadata": {},
   "outputs": [
    {
     "data": {
      "text/plain": [
       "array([0., 0., 0., 0., 0.])"
      ]
     },
     "execution_count": 46,
     "metadata": {},
     "output_type": "execute_result"
    }
   ],
   "source": [
    "func"
   ]
  },
  {
   "cell_type": "code",
   "execution_count": 47,
   "id": "f9c5890f",
   "metadata": {},
   "outputs": [],
   "source": [
    "func[0] = x"
   ]
  },
  {
   "cell_type": "code",
   "execution_count": 48,
   "id": "706d7514",
   "metadata": {},
   "outputs": [],
   "source": [
    "def Update(f,x):\n",
    "    \n",
    "    f = (x/f + f)/2.\n",
    "    \n",
    "    return f\n",
    "    "
   ]
  },
  {
   "cell_type": "code",
   "execution_count": 49,
   "id": "b80664b5",
   "metadata": {},
   "outputs": [
    {
     "data": {
      "text/plain": [
       "1.5"
      ]
     },
     "execution_count": 49,
     "metadata": {},
     "output_type": "execute_result"
    }
   ],
   "source": [
    "Update(x,x)"
   ]
  },
  {
   "cell_type": "code",
   "execution_count": 50,
   "id": "ea0fcdc9",
   "metadata": {},
   "outputs": [],
   "source": [
    "for i in range(1,n):\n",
    "    func[i] = Update(func[i-1],x)"
   ]
  },
  {
   "cell_type": "code",
   "execution_count": 51,
   "id": "cb22077c",
   "metadata": {},
   "outputs": [
    {
     "data": {
      "text/plain": [
       "array([2.        , 1.5       , 1.41666667, 1.41421569, 1.41421356])"
      ]
     },
     "execution_count": 51,
     "metadata": {},
     "output_type": "execute_result"
    }
   ],
   "source": [
    "func"
   ]
  },
  {
   "cell_type": "code",
   "execution_count": 52,
   "id": "a82badd9",
   "metadata": {},
   "outputs": [],
   "source": [
    "k = np.arange(0,n,1)"
   ]
  },
  {
   "cell_type": "code",
   "execution_count": 53,
   "id": "61e3010b",
   "metadata": {},
   "outputs": [
    {
     "data": {
      "image/png": "[encoded data removed]",
      "text/plain": [
       "<Figure size 432x288 with 1 Axes>"
      ]
     },
     "metadata": {
      "needs_background": "light"
     },
     "output_type": "display_data"
    }
   ],
   "source": [
    "plt.scatter(k,func)\n",
    "plt.axhline(y = np.sqrt(2),color='r')\n",
    "plt.yscale('log')"
   ]
  },
  {
   "cell_type": "code",
   "execution_count": 54,
   "id": "b7352dbf",
   "metadata": {},
   "outputs": [],
   "source": [
    "#np.info(np.float32)"
   ]
  },
  {
   "cell_type": "code",
   "execution_count": 55,
   "id": "b29af246",
   "metadata": {},
   "outputs": [
    {
     "name": "stdout",
     "output_type": "stream",
     "text": [
      "[0 1 2 3 4]\n",
      "[2.         1.5        1.41666667 1.41421569 1.41421356]\n"
     ]
    }
   ],
   "source": [
    "print(k)\n",
    "print(func)"
   ]
  },
  {
   "cell_type": "code",
   "execution_count": 56,
   "id": "90f0041d",
   "metadata": {},
   "outputs": [],
   "source": [
    "def GetDistance(x):\n",
    "    return np.sqrt(x**2 + (3*x + 5)**2)"
   ]
  },
  {
   "cell_type": "code",
   "execution_count": 62,
   "id": "02f06a0d",
   "metadata": {},
   "outputs": [],
   "source": [
    "x = np.linspace(-3,0,100)\n",
    "y = GetDistance(x)"
   ]
  },
  {
   "cell_type": "code",
   "execution_count": 63,
   "id": "5e601850",
   "metadata": {},
   "outputs": [
    {
     "data": {
      "text/plain": [
       "<matplotlib.collections.PathCollection at 0x7feec0beadc0>"
      ]
     },
     "execution_count": 63,
     "metadata": {},
     "output_type": "execute_result"
    },
    {
     "data": {
      "image/png": "[encoded data removed]",
      "text/plain": [
       "<Figure size 432x288 with 1 Axes>"
      ]
     },
     "metadata": {
      "needs_background": "light"
     },
     "output_type": "display_data"
    }
   ],
   "source": [
    "plt.scatter(x,y)"
   ]
  },
  {
   "cell_type": "code",
   "execution_count": 68,
   "id": "f32b84ae",
   "metadata": {},
   "outputs": [
    {
     "data": {
      "text/plain": [
       "array([-1.48484848])"
      ]
     },
     "execution_count": 68,
     "metadata": {},
     "output_type": "execute_result"
    }
   ],
   "source": [
    "ii = np.where( y == np.amin(y) )\n",
    "x[ii]"
   ]
  },
  {
   "cell_type": "code",
   "execution_count": null,
   "id": "802dd99d",
   "metadata": {},
   "outputs": [],
   "source": []
  }
 ],
 "metadata": {
  "kernelspec": {
   "display_name": "Python 3 (ipykernel)",
   "language": "python",
   "name": "python3"
  },
  "language_info": {
   "codemirror_mode": {
    "name": "ipython",
    "version": 3
   },
   "file_extension": ".py",
   "mimetype": "text/x-python",
   "name": "python",
   "nbconvert_exporter": "python",
   "pygments_lexer": "ipython3",
   "version": "3.9.12"
  }
 },
 "nbformat": 4,
 "nbformat_minor": 5
}

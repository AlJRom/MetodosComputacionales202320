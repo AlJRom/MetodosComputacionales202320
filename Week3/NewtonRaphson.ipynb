{
 "cells": [
  {
   "cell_type": "code",
   "execution_count": 1,
   "id": "2b8c6307",
   "metadata": {},
   "outputs": [],
   "source": [
    "import numpy as np\n",
    "import matplotlib.pyplot as plt"
   ]
  },
  {
   "cell_type": "code",
   "execution_count": 7,
   "id": "9e126621",
   "metadata": {},
   "outputs": [],
   "source": [
    "def Function(x):\n",
    "    return 5*(1-np.exp(-x)) - x"
   ]
  },
  {
   "cell_type": "code",
   "execution_count": 8,
   "id": "aa450e3e",
   "metadata": {},
   "outputs": [],
   "source": [
    "x = np.linspace(0,6,100)\n",
    "y = Function(x)"
   ]
  },
  {
   "cell_type": "code",
   "execution_count": 10,
   "id": "58a0d220",
   "metadata": {},
   "outputs": [
    {
     "data": {
      "text/plain": [
       "<matplotlib.lines.Line2D at 0x7f41c9b00f70>"
      ]
     },
     "execution_count": 10,
     "metadata": {},
     "output_type": "execute_result"
    },
    {
     "data": {
      "image/png": "[encoded data removed]",
      "text/plain": [
       "<Figure size 432x288 with 1 Axes>"
      ]
     },
     "metadata": {
      "needs_background": "light"
     },
     "output_type": "display_data"
    }
   ],
   "source": [
    "plt.plot(x,y)\n",
    "plt.axhline(y = 0,color='r')"
   ]
  },
  {
   "cell_type": "code",
   "execution_count": 11,
   "id": "e96d62e2",
   "metadata": {},
   "outputs": [],
   "source": [
    "def Derivative(f,x,h=1e-6):\n",
    "    return (f(x+h)-f(x-h))/(2*h)"
   ]
  },
  {
   "cell_type": "code",
   "execution_count": 12,
   "id": "b04c80da",
   "metadata": {},
   "outputs": [],
   "source": [
    "def GetNewtonMethod(f,df,xn,itmax=1000,precision=1e-5):\n",
    "    \n",
    "    error = 1.\n",
    "    it = 0\n",
    "    \n",
    "    while error > precision and it < itmax:\n",
    "        \n",
    "        try:\n",
    "            \n",
    "            xn1 = xn - f(xn)/df(f,xn)\n",
    "            \n",
    "            error = np.abs(f(xn)/df(f,xn))\n",
    "            \n",
    "        except ZeroDivisionError:\n",
    "            print('Division por cero')\n",
    "            \n",
    "        xn = xn1\n",
    "        it += 1\n",
    "        \n",
    "    print('Raiz',xn,it)\n",
    "    \n",
    "    return xn"
   ]
  },
  {
   "cell_type": "code",
   "execution_count": 14,
   "id": "c97cf7be",
   "metadata": {},
   "outputs": [
    {
     "name": "stdout",
     "output_type": "stream",
     "text": [
      "Raiz 4.965114231744276 3\n"
     ]
    }
   ],
   "source": [
    "root = GetNewtonMethod(Function,Derivative,5)"
   ]
  },
  {
   "cell_type": "code",
   "execution_count": null,
   "id": "b357a9c5",
   "metadata": {},
   "outputs": [],
   "source": []
  }
 ],
 "metadata": {
  "kernelspec": {
   "display_name": "Python 3 (ipykernel)",
   "language": "python",
   "name": "python3"
  },
  "language_info": {
   "codemirror_mode": {
    "name": "ipython",
    "version": 3
   },
   "file_extension": ".py",
   "mimetype": "text/x-python",
   "name": "python",
   "nbconvert_exporter": "python",
   "pygments_lexer": "ipython3",
   "version": "3.9.12"
  }
 },
 "nbformat": 4,
 "nbformat_minor": 5
}

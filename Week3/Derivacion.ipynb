{
 "cells": [
  {
   "cell_type": "code",
   "execution_count": 1,
   "id": "ce40b9b5",
   "metadata": {},
   "outputs": [],
   "source": [
    "import numpy as np\n",
    "import matplotlib.pyplot as plt"
   ]
  },
  {
   "cell_type": "code",
   "execution_count": 4,
   "id": "64ae0c91",
   "metadata": {},
   "outputs": [
    {
     "name": "stdout",
     "output_type": "stream",
     "text": [
      "1.1102230246251565e-16\n"
     ]
    }
   ],
   "source": [
    "epsilon = 1\n",
    "\n",
    "while 1 + epsilon != 1:\n",
    "    epsilon *= 0.5\n",
    "    \n",
    "print(epsilon)"
   ]
  },
  {
   "cell_type": "code",
   "execution_count": 6,
   "id": "1342684d",
   "metadata": {},
   "outputs": [],
   "source": [
    "def epsilon(x):\n",
    "    return np.sin(x) - (x- x**3/6.)"
   ]
  },
  {
   "cell_type": "code",
   "execution_count": 9,
   "id": "056ef69e",
   "metadata": {},
   "outputs": [
    {
     "name": "stdout",
     "output_type": "stream",
     "text": [
      "29.021192005921073\n"
     ]
    }
   ],
   "source": [
    "x = 3*np.pi/4\n",
    "print(epsilon(x)/epsilon(x/2))"
   ]
  },
  {
   "cell_type": "code",
   "execution_count": 10,
   "id": "0cbce2e1",
   "metadata": {},
   "outputs": [],
   "source": [
    "def Function(x):\n",
    "    return np.sin(x)"
   ]
  },
  {
   "cell_type": "code",
   "execution_count": 11,
   "id": "8f758ec8",
   "metadata": {},
   "outputs": [],
   "source": [
    "def ExactDerivative(x):\n",
    "    return np.cos(x)"
   ]
  },
  {
   "cell_type": "code",
   "execution_count": 23,
   "id": "271994c6",
   "metadata": {},
   "outputs": [],
   "source": [
    "N = 50\n",
    "x = np.linspace(0,2*np.pi,N)\n",
    "#x"
   ]
  },
  {
   "cell_type": "code",
   "execution_count": 24,
   "id": "66aabd33",
   "metadata": {},
   "outputs": [],
   "source": [
    "y = Function(x)"
   ]
  },
  {
   "cell_type": "code",
   "execution_count": 25,
   "id": "6ab629e1",
   "metadata": {},
   "outputs": [
    {
     "data": {
      "text/plain": [
       "<matplotlib.collections.PathCollection at 0x7fc2f77b1460>"
      ]
     },
     "execution_count": 25,
     "metadata": {},
     "output_type": "execute_result"
    },
    {
     "data": {
      "image/png": "[encoded data removed]",
      "text/plain": [
       "<Figure size 432x288 with 1 Axes>"
      ]
     },
     "metadata": {
      "needs_background": "light"
     },
     "output_type": "display_data"
    }
   ],
   "source": [
    "plt.scatter(x,y)"
   ]
  },
  {
   "cell_type": "code",
   "execution_count": null,
   "id": "510432e6",
   "metadata": {},
   "outputs": [],
   "source": []
  }
 ],
 "metadata": {
  "kernelspec": {
   "display_name": "Python 3 (ipykernel)",
   "language": "python",
   "name": "python3"
  },
  "language_info": {
   "codemirror_mode": {
    "name": "ipython",
    "version": 3
   },
   "file_extension": ".py",
   "mimetype": "text/x-python",
   "name": "python",
   "nbconvert_exporter": "python",
   "pygments_lexer": "ipython3",
   "version": "3.9.12"
  }
 },
 "nbformat": 4,
 "nbformat_minor": 5
}
